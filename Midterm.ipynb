{
 "cells": [
  {
   "cell_type": "markdown",
   "metadata": {
    "nbpresent": {
     "id": "34b789f8-ec0d-4498-8895-76ef20359aa4"
    }
   },
   "source": [
    "### Analysis of sector-wise patters by state for power usage in 2015\n",
    "\n",
    "David Kahn <br>\n",
    "Midterm Project <br>\n",
    "11/7/2016 <br>\n",
    "\n",
    "\n",
    "In this analysis, the amount of power a state uses for each sector of its economy is analysed. These sectors are: the Residential Sector, the Commercial Sector, the Industrial Sector, and the Transportation sector. The advantage to understanding the power usages and electrical alottments by each state could yeild possible reasons for economic situations, or examples of these through their power usage statistics. The data used was provided by the EIA (Energy Information Administration), and was in the general order from East to West going across the United States. The power for each state in their respective sectors was measured in Thousand Megawatthours."
   ]
  },
  {
   "cell_type": "code",
   "execution_count": 2,
   "metadata": {
    "collapsed": false,
    "nbpresent": {
     "id": "aebf78fe-3588-4cf5-a62b-85e8529fee74"
    }
   },
   "outputs": [
    {
     "name": "stdout",
     "output_type": "stream",
     "text": [
      "\n"
     ]
    }
   ],
   "source": [
    "\n",
    "#what are the sectore-wise patterns by state for power usage?\n",
    "#what are the power usage patterns per sector by state?\n",
    "\n",
    "#imports\n",
    "import statistics as st\n",
    "import matplotlib.pyplot as plt\n",
    "import numpy as np\n",
    "% matplotlib inline\n",
    "#import re\n",
    "\n",
    "#file reading\n",
    "ret_sales_ult_cust_sec_sta = open(\"retailsalestoultimatecustomer_bysector_bystate.csv\", \"r\", errors=\"ignore\");\n",
    "num_cust_sec_sta = open(\"numberofcustomer_bysector_bystate.csv\", \"r\", errors=\"ignore\");\n",
    "\n",
    "retsalesfile = [];\n",
    "numcustfile = [];\n",
    "\n",
    "#Turns data from document into a list of lists\n",
    "for readsales in ret_sales_ult_cust_sec_sta:\n",
    "    retsalesfile.append(readsales);\n",
    "    \n",
    "for readcustomer in num_cust_sec_sta:\n",
    "    numcustfile.append(readcustomer);\n",
    "    \n",
    "    \n",
    "#delets the necessary parts of the lists  to allow the data to be interpreted correctly.\n",
    "for deleteret in range(5):\n",
    "    del retsalesfile[0];\n",
    "for deleteret in range(8):\n",
    "    del retsalesfile[62];\n",
    "    \n",
    "for deletenum in range(3):\n",
    "    del numcustfile[0];\n",
    "    \n",
    "del retsalesfile[0];\n",
    "del retsalesfile[6];\n",
    "del retsalesfile[15];\n",
    "del retsalesfile[22];\n",
    "del retsalesfile[31];\n",
    "del retsalesfile[38];\n",
    "del retsalesfile[43];\n",
    "del retsalesfile[46];\n",
    "del retsalesfile[49];\n",
    "del retsalesfile[52];\n",
    "    \n",
    "#separates the lists into a lists of lists \n",
    "for sepret in range(len(retsalesfile)):\n",
    "    retsalesfile[sepret] = retsalesfile[sepret].replace(\"\\n\", \"\");\n",
    "    retsalesfile[sepret] = retsalesfile[sepret].split(\",\");\n",
    "    \n",
    "    \n",
    "resident = [];\n",
    "commerc = [];\n",
    "indust = [];\n",
    "transport = [];\n",
    "allsect = [];\n",
    "resperc = [];\n",
    "comperc = [];\n",
    "indperc = [];\n",
    "tranperc = [];\n",
    "allperc = [];\n",
    "\n",
    "for interp in range(len(retsalesfile)):\n",
    "    resident.append(retsalesfile[interp][2]);\n",
    "    commerc.append(retsalesfile[interp][4]);\n",
    "    indust.append(retsalesfile[interp][6]);\n",
    "    transport.append(retsalesfile[interp][8]);\n",
    "    allsect.append(retsalesfile[interp][10]);\n",
    "    \n",
    "for percinterp in range(len(resident)):\n",
    "    resperc.append(float(float(resident[percinterp])/float(allsect[percinterp])*100));\n",
    "    comperc.append(float(float(commerc[percinterp])/float(allsect[percinterp])*100));\n",
    "    indperc.append(float(float(indust[percinterp])/float(allsect[percinterp])*100));\n",
    "    tranperc.append(float(float(transport[percinterp])/float(allsect[percinterp])*100));\n",
    "    \n",
    "\"\"\"print(resperc);\n",
    "print(comperc);\n",
    "print(indperc);\n",
    "print(tranperc);\n",
    "print(allsect);\n",
    "print(len(resperc));\n",
    "print(len(comperc));\"\"\"\n",
    "print();"
   ]
  },
  {
   "cell_type": "code",
   "execution_count": 3,
   "metadata": {
    "collapsed": false,
    "nbpresent": {
     "id": "b74224af-817c-409d-bd27-691d530b32bc"
    }
   },
   "outputs": [
    {
     "name": "stdout",
     "output_type": "stream",
     "text": [
      "The state with the highest Residential power usage percentage is: Florida\n"
     ]
    },
    {
     "data": {
      "image/png": "[encoded data removed]",
      "text/plain": [
       "<matplotlib.figure.Figure at 0x2002c4bffd0>"
      ]
     },
     "metadata": {},
     "output_type": "display_data"
    }
   ],
   "source": [
    "for grapher in range(len(resperc)):\n",
    "    plt.scatter(grapher, resperc[grapher]);\n",
    "    plt.title(\"Residential\");\n",
    "    plt.xlabel(\"State Number\");\n",
    "    plt.ylabel(\"State Allotted Power percentage\");\n",
    "    \n",
    "print(\"The state with the highest Residential power usage percentage is:\", retsalesfile[resperc.index(max(resperc))][0]);"
   ]
  },
  {
   "cell_type": "markdown",
   "metadata": {},
   "source": [
    "### Residential Analysis:\n",
    "<br>\n",
    "Something that was not as expected was the rather large distribution of residential power usage across the US. It seems that as you scan across the country, the power usage does not appear to have any specific patterns. For instance, it could be expected that on the coasts, the power usage increases, and towards the middle of the country, the power usage would decrease, however this is not the case. As it can be seen clearly in the graph, the data does not have any particular pattern, indicating that residential power usage is not necessarily dependent on geographic location by state. One thing to take note of though, is the fact that Florida uses the most Residential power of any state."
   ]
  },
  {
   "cell_type": "code",
   "execution_count": 4,
   "metadata": {
    "collapsed": false,
    "nbpresent": {
     "id": "25636ef8-90ab-4302-a81c-3949de361022"
    }
   },
   "outputs": [
    {
     "name": "stdout",
     "output_type": "stream",
     "text": [
      "The state with the highest Commercial power usage percentage is: District of Columbia\n"
     ]
    },
    {
     "data": {
      "image/png": "[encoded data removed]",
      "text/plain": [
       "<matplotlib.figure.Figure at 0x2002c4bfc50>"
      ]
     },
     "metadata": {},
     "output_type": "display_data"
    }
   ],
   "source": [
    "for grapher in range(len(comperc)):\n",
    "    plt.scatter(grapher, comperc[grapher]);\n",
    "    plt.title(\"Commercial\");\n",
    "    plt.xlabel(\"State Number\");\n",
    "    plt.ylabel(\"State Allotted Power percentage\");\n",
    "    \n",
    "print(\"The state with the highest Commercial power usage percentage is:\",retsalesfile[comperc.index(max(comperc))][0]);"
   ]
  },
  {
   "cell_type": "markdown",
   "metadata": {},
   "source": [
    "### Commercial Analysis:\n",
    "<br>\n",
    "Immediately when looking at the presceeding graph, it can be seen that there is a rather significant percentage of the country that does not use more that 40% of its power in the Commercial sector. However, there are states that extend beyond this to 50%, and even 60% percent. What stands out though is the large amount of power that the District of Colombia allots to itc Commercial sector, nearly 73%. There are many different factors that could have impacted this, however it is difficult to pinpoint which ones exactly could have this large of an impact."
   ]
  },
  {
   "cell_type": "code",
   "execution_count": 135,
   "metadata": {
    "collapsed": false,
    "nbpresent": {
     "id": "ca6af929-b5d5-4eb9-81a3-ac4901702155"
    }
   },
   "outputs": [
    {
     "data": {
      "image/png": "[encoded data removed]",
      "text/plain": [
       "<matplotlib.figure.Figure at 0x1ff1e4d34e0>"
      ]
     },
     "metadata": {},
     "output_type": "display_data"
    }
   ],
   "source": [
    "for grapher in range(len(indperc)):\n",
    "    plt.scatter(grapher, indperc[grapher]);\n",
    "    plt.title(\"Industrial\");\n",
    "    plt.xlabel(\"State Number\");\n",
    "    plt.ylabel(\"State Allotted Power percentage\");\n",
    "    "
   ]
  },
  {
   "cell_type": "markdown",
   "metadata": {},
   "source": [
    "### Industrial Analysis:\n",
    "<br>\n",
    "What is interesting to see, is that the industrial sector is the most spread out of any sector. Across the country, the power usage ranges anywhere from less than 5% to almost 46%. This is to be expected though due to the different industries that each state has, and the amount of power that each industry would draw. For instance, a state that produces a lot of steel will draw a very large amount of power due to the extreme power requirements for an Electric Arc Furnace (what is typically used in the steel manufacturing business to melt the different metals together). However, a state that produces a lot of oil will not have as high of a power usage due to the low energy requirements to process crude oil."
   ]
  },
  {
   "cell_type": "code",
   "execution_count": 136,
   "metadata": {
    "collapsed": false,
    "nbpresent": {
     "id": "3fe7f9f8-ce31-4f64-bd61-eb15c71e3f78"
    }
   },
   "outputs": [
    {
     "name": "stdout",
     "output_type": "stream",
     "text": [
      "The state with the highest Transportation power usage percentage is: Florida\n"
     ]
    },
    {
     "data": {
      "image/png": "[encoded data removed]",
      "text/plain": [
       "<matplotlib.figure.Figure at 0x1ff1e070d68>"
      ]
     },
     "metadata": {},
     "output_type": "display_data"
    }
   ],
   "source": [
    "for grapher in range(len(tranperc)):\n",
    "    plt.scatter(grapher, tranperc[grapher]);\n",
    "    plt.title(\"Transportation\");\n",
    "    plt.xlabel(\"State Number\");\n",
    "    plt.ylabel(\"State Allotted Power percentage\");\n",
    "    \n",
    "print(\"The state with the highest Transportation power usage percentage is:\",retsalesfile[resperc.index(max(resperc))][0]);"
   ]
  },
  {
   "cell_type": "markdown",
   "metadata": {},
   "source": [
    "### Transportation Analysis:\n",
    "<br>\n",
    "This graph of the power usage for the transportation sector is completely to be expected. It is well known that throughout the United States, there are states with good and bad public transportation. However, what is interesting to see, is how little power it takes to have a 'good' public transportation system. For instance, states like New York are considered to have a 'very good' public transportation system, yet it only requires less than 2% of their total power usage to have that. Many states though do not have a high power usage for the transportation sector, indicating that they either have a small transportation system, or their modes of transportation run primarily on fossil fuels as opposed to electricity."
   ]
  },
  {
   "cell_type": "code",
   "execution_count": 137,
   "metadata": {
    "collapsed": false,
    "nbpresent": {
     "id": "6d358f8b-8ae8-4731-b4bd-deb54f4a126f"
    }
   },
   "outputs": [
    {
     "name": "stdout",
     "output_type": "stream",
     "text": [
      "The state with the highest Total power usage percentage is: New York\n"
     ]
    },
    {
     "data": {
      "image/png": "[encoded data removed]",
      "text/plain": [
       "<matplotlib.figure.Figure at 0x1ff1e070a90>"
      ]
     },
     "metadata": {},
     "output_type": "display_data"
    }
   ],
   "source": [
    "for grapher in range(len(allsect)):\n",
    "    plt.scatter(grapher, allsect[grapher]);\n",
    "    plt.title(\"Total Power Usage\");\n",
    "    plt.xlabel(\"State Number\");\n",
    "    plt.ylabel(\"Amount of Power (thousand Megawatthours)\");\n",
    "print(\"The state with the highest Total power usage percentage is:\",retsalesfile[allsect.index(max(allsect))][0]);"
   ]
  },
  {
   "cell_type": "markdown",
   "metadata": {},
   "source": [
    "### Total Power Usage Analysis:\n",
    "<br>\n",
    "What was not expected, was the clearly diffined group of power usage amounts. Most states tended to stay below or around 100,000 thousand Megawatthours, but there were a few outlier states ranging anywhere from 150,000 thousand Megawatthours to almost 400,000 thousand Megawatthours. The tendency for states to stay below 100,000 thousand Megawatthours suggests that most states, while still alloting large amounts of their own power to specific sectors, do not have sectors that draw extreme amounts of said states total power. "
   ]
  },
  {
   "cell_type": "code",
   "execution_count": null,
   "metadata": {
    "collapsed": true,
    "nbpresent": {
     "id": "d694edab-b64c-4ffd-be43-0401b13a0d06"
    }
   },
   "outputs": [],
   "source": []
  }
 ],
 "metadata": {
  "anaconda-cloud": {},
  "kernelspec": {
   "display_name": "Python [Root]",
   "language": "python",
   "name": "Python [Root]"
  },
  "language_info": {
   "codemirror_mode": {
    "name": "ipython",
    "version": 3
   },
   "file_extension": ".py",
   "mimetype": "text/x-python",
   "name": "python",
   "nbconvert_exporter": "python",
   "pygments_lexer": "ipython3",
   "version": "3.5.2"
  },
  "nbpresent": {
   "slides": {
    "1a1a2439-b22b-4bfd-a2da-8ea9dd229545": {
     "id": "1a1a2439-b22b-4bfd-a2da-8ea9dd229545",
     "prev": "8f5119d4-a83e-423c-b42b-01d5fb9ba2d1",
     "regions": {
      "c9213235-c2ae-410e-b084-5e801f4b0326": {
       "attrs": {
        "height": 1,
        "width": 1,
        "x": 0,
        "y": 0
       },
       "content": {
        "cell": "6d358f8b-8ae8-4731-b4bd-deb54f4a126f",
        "part": "outputs"
       },
       "id": "c9213235-c2ae-410e-b084-5e801f4b0326"
      }
     }
    },
    "8b462982-bdae-458d-8ed5-2fef8513a08f": {
     "id": "8b462982-bdae-458d-8ed5-2fef8513a08f",
     "prev": null,
     "regions": {
      "7c1c059e-6240-47e9-aa69-46ef78db07f0": {
       "attrs": {
        "height": 1,
        "width": 1,
        "x": 0,
        "y": 0
       },
       "content": {
        "cell": "34b789f8-ec0d-4498-8895-76ef20359aa4",
        "part": "source"
       },
       "id": "7c1c059e-6240-47e9-aa69-46ef78db07f0"
      }
     }
    },
    "8f5119d4-a83e-423c-b42b-01d5fb9ba2d1": {
     "id": "8f5119d4-a83e-423c-b42b-01d5fb9ba2d1",
     "prev": "8b462982-bdae-458d-8ed5-2fef8513a08f",
     "regions": {
      "18de10e5-79b9-458d-82e7-c051ef9414cd": {
       "attrs": {
        "height": 0.4,
        "width": 0.4,
        "x": 0.5,
        "y": 0.5
       },
       "content": {
        "cell": "3fe7f9f8-ce31-4f64-bd61-eb15c71e3f78",
        "part": "outputs"
       },
       "id": "18de10e5-79b9-458d-82e7-c051ef9414cd"
      },
      "885cd00a-c498-4d71-8ee9-0e524f8f9973": {
       "attrs": {
        "height": 0.4,
        "width": 0.4,
        "x": 0.5,
        "y": 0.1
       },
       "content": {
        "cell": "25636ef8-90ab-4302-a81c-3949de361022",
        "part": "outputs"
       },
       "id": "885cd00a-c498-4d71-8ee9-0e524f8f9973"
      },
      "8d31980b-e559-439b-a031-3551da005d88": {
       "attrs": {
        "height": 0.4,
        "width": 0.4,
        "x": 0.1,
        "y": 0.1
       },
       "content": {
        "cell": "b74224af-817c-409d-bd27-691d530b32bc",
        "part": "outputs"
       },
       "id": "8d31980b-e559-439b-a031-3551da005d88"
      },
      "dbfee9ef-0e05-4d40-917f-8bc89835b0b9": {
       "attrs": {
        "height": 0.4,
        "width": 0.4,
        "x": 0.1,
        "y": 0.5
       },
       "content": {
        "cell": "ca6af929-b5d5-4eb9-81a3-ac4901702155",
        "part": "outputs"
       },
       "id": "dbfee9ef-0e05-4d40-917f-8bc89835b0b9"
      }
     }
    }
   },
   "themes": {
    "default": "9adb1bec-11a9-43e4-b276-ab4d6d398d51",
    "theme": {}
   }
  }
 },
 "nbformat": 4,
 "nbformat_minor": 0
}
